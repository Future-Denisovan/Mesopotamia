{
  "nbformat": 4,
  "nbformat_minor": 0,
  "metadata": {
    "kernelspec": {
      "display_name": "Python 3",
      "language": "python",
      "name": "python3"
    },
    "language_info": {
      "codemirror_mode": {
        "name": "ipython",
        "version": 3
      },
      "file_extension": ".py",
      "mimetype": "text/x-python",
      "name": "python",
      "nbconvert_exporter": "python",
      "pygments_lexer": "ipython3",
      "version": "3.7.2"
    },
    "colab": {
      "name": "Caleb-Aguiar-Python-Intro.ipynb",
      "provenance": [],
      "collapsed_sections": [],
      "include_colab_link": true
    }
  },
  "cells": [
    {
      "cell_type": "markdown",
      "metadata": {
        "id": "view-in-github",
        "colab_type": "text"
      },
      "source": [
        "<a href=\"https://colab.research.google.com/github/Future-Denisovan/Mesopotamia/blob/main/Caleb_Aguiar_Python_Intro.ipynb\" target=\"_parent\"><img src=\"https://colab.research.google.com/assets/colab-badge.svg\" alt=\"Open In Colab\"/></a>"
      ]
    },
    {
      "cell_type": "markdown",
      "metadata": {
        "id": "RHG-uQ8mhmMW"
      },
      "source": [
        "# Python Introduction"
      ]
    },
    {
      "cell_type": "markdown",
      "metadata": {
        "id": "HyttZZQZhmMX"
      },
      "source": [
        "### Variables and Printing\n",
        "In Python, types of variables are automatically inferred by the interpreter"
      ]
    },
    {
      "cell_type": "code",
      "metadata": {
        "id": "tV0HuYiYhmMZ",
        "colab": {
          "base_uri": "https://localhost:8080/"
        },
        "outputId": "1fb2a794-9a07-43c4-ec5d-d01faead1a03"
      },
      "source": [
        "school = \"Foster School of Business\" # creates a string\n",
        "number = 446       \n",
        "pi = 3.141        \n",
        "\n",
        "# Print Statements\n",
        "print(\"department:\", school)\n",
        "print(\"number:\", number)\n",
        "print(\"pi:\", pi)\n",
        "\n",
        "print(type(school), type(number), type(pi))"
      ],
      "execution_count": 1,
      "outputs": [
        {
          "output_type": "stream",
          "text": [
            "department: Foster School of Business\n",
            "number: 446\n",
            "pi: 3.141\n",
            "<class 'str'> <class 'int'> <class 'float'>\n"
          ],
          "name": "stdout"
        }
      ]
    },
    {
      "cell_type": "markdown",
      "metadata": {
        "id": "pU29hxMFhmMk"
      },
      "source": [
        "### Math operations"
      ]
    },
    {
      "cell_type": "code",
      "metadata": {
        "id": "vRgTmzWThmMm",
        "colab": {
          "base_uri": "https://localhost:8080/"
        },
        "outputId": "ff07e7c4-2fa4-444a-a4ee-f1bef910c1e4"
      },
      "source": [
        "a = 13\n",
        "b = 4\n",
        "\n",
        "print(a + b)\n",
        "print(a / b) # floating point division\n",
        "print(a // b) # integer division\n",
        "print(b**2) # powers are built-in"
      ],
      "execution_count": 2,
      "outputs": [
        {
          "output_type": "stream",
          "text": [
            "17\n",
            "3.25\n",
            "3\n",
            "16\n"
          ],
          "name": "stdout"
        }
      ]
    },
    {
      "cell_type": "markdown",
      "metadata": {
        "id": "7sY-0xw-hmMw"
      },
      "source": [
        "### Conditionals\n",
        "Python cares about whitespace! There are no brackets or end statements\n",
        "\n",
        "Instead of &&, ||, !, we use 'and', 'or', and 'not'.\n",
        "\n",
        "Boolean values are written as 'True' and 'False'"
      ]
    },
    {
      "cell_type": "code",
      "metadata": {
        "id": "AdhcwX_-hmMy",
        "colab": {
          "base_uri": "https://localhost:8080/"
        },
        "outputId": "af4fe3dd-0bb2-4a9c-f1b3-50c48af09f4f"
      },
      "source": [
        "a = 9.1\n",
        "b = 7\n",
        "\n",
        "# basic if else syntax\n",
        "if a < 10:\n",
        "    print('hello there!')\n",
        "else:\n",
        "    print('general kenobi')\n",
        "\n",
        "print('this always prints')"
      ],
      "execution_count": 3,
      "outputs": [
        {
          "output_type": "stream",
          "text": [
            "hello there!\n",
            "this always prints\n"
          ],
          "name": "stdout"
        }
      ]
    },
    {
      "cell_type": "code",
      "metadata": {
        "id": "hNiaYKrwhmM4",
        "colab": {
          "base_uri": "https://localhost:8080/"
        },
        "outputId": "64346703-66b5-4b82-9c2e-c5f146a6bc77"
      },
      "source": [
        "# and syntax\n",
        "if a < 10 and b > 5:\n",
        "    print('and')\n",
        "\n",
        "# or syntax\n",
        "if a > 10 or b > 5:\n",
        "    print('or')"
      ],
      "execution_count": 4,
      "outputs": [
        {
          "output_type": "stream",
          "text": [
            "and\n",
            "or\n"
          ],
          "name": "stdout"
        }
      ]
    },
    {
      "cell_type": "code",
      "metadata": {
        "id": "iYKbNwR8hmM7",
        "colab": {
          "base_uri": "https://localhost:8080/"
        },
        "outputId": "f4058c06-7473-4da1-f94b-a67653f1e2b2"
      },
      "source": [
        "# else, else if syntax\n",
        "if False:\n",
        "    print('this never prints')\n",
        "elif a != b:\n",
        "    print('a != b')\n",
        "else:\n",
        "    print('else!')"
      ],
      "execution_count": 5,
      "outputs": [
        {
          "output_type": "stream",
          "text": [
            "a != b\n"
          ],
          "name": "stdout"
        }
      ]
    },
    {
      "cell_type": "markdown",
      "metadata": {
        "id": "w2VwnyMUhmNA"
      },
      "source": [
        "### Data Structures"
      ]
    },
    {
      "cell_type": "code",
      "metadata": {
        "scrolled": true,
        "id": "-TBaZQj-hmNB",
        "colab": {
          "base_uri": "https://localhost:8080/"
        },
        "outputId": "72eeaec1-4ca3-4b7a-8b33-3df08a8c1da0"
      },
      "source": [
        "# Lists\n",
        "fruit = ['apple', 'pear', 'tomato', 'avocado']\n",
        "print(fruit)\n",
        "print(fruit[0])\n",
        "print(fruit[-2]) # specifies the elements two elements from the end\n",
        "print(fruit[1:3]) # can index multiple items [inclusive, exclusive)\n",
        "fruit[3] = 'salmon' # can assign items in list\n",
        "\n",
        "print(fruit)"
      ],
      "execution_count": 6,
      "outputs": [
        {
          "output_type": "stream",
          "text": [
            "['apple', 'pear', 'tomato', 'avocado']\n",
            "apple\n",
            "tomato\n",
            "['pear', 'tomato']\n",
            "['apple', 'pear', 'tomato', 'salmon']\n"
          ],
          "name": "stdout"
        }
      ]
    },
    {
      "cell_type": "code",
      "metadata": {
        "id": "hVvTVLRDhmNM",
        "colab": {
          "base_uri": "https://localhost:8080/"
        },
        "outputId": "6fc56caf-0280-4bea-ad1f-4292432b29b9"
      },
      "source": [
        "print(len(fruit)) # this is the length of the list\n",
        "print('pear' in fruit) # can check for existence in a list (\"contains()\")"
      ],
      "execution_count": 7,
      "outputs": [
        {
          "output_type": "stream",
          "text": [
            "4\n",
            "True\n"
          ],
          "name": "stdout"
        }
      ]
    },
    {
      "cell_type": "code",
      "metadata": {
        "id": "M1BugjkNhmNP",
        "colab": {
          "base_uri": "https://localhost:8080/"
        },
        "outputId": "fc1611bd-479a-4484-b85d-fbd27abac95c"
      },
      "source": [
        "fruit.append('trout') # you can add elements to a list\n",
        "\n",
        "print(fruit)\n",
        "print(len(fruit))"
      ],
      "execution_count": 8,
      "outputs": [
        {
          "output_type": "stream",
          "text": [
            "['apple', 'pear', 'tomato', 'salmon', 'trout']\n",
            "5\n"
          ],
          "name": "stdout"
        }
      ]
    },
    {
      "cell_type": "code",
      "metadata": {
        "id": "agktQvVvhmNV",
        "colab": {
          "base_uri": "https://localhost:8080/"
        },
        "outputId": "abda3bd5-7d69-482a-ee00-e4129ebcdcdc"
      },
      "source": [
        "# tuples are a useful way to pack small amounts of data\n",
        "tupperware = (1,2,3)\n",
        "print(tupperware)\n",
        "print(tupperware[1])\n",
        "a, b, c = tupperware # can 'unpack' tuples\n",
        "_, d, _ = tupperware # ignore the elements you don't care about\n",
        "print(c)\n",
        "print(d)"
      ],
      "execution_count": 9,
      "outputs": [
        {
          "output_type": "stream",
          "text": [
            "(1, 2, 3)\n",
            "2\n",
            "3\n",
            "2\n"
          ],
          "name": "stdout"
        }
      ]
    },
    {
      "cell_type": "code",
      "metadata": {
        "id": "j35HW5rDhmNY",
        "colab": {
          "base_uri": "https://localhost:8080/",
          "height": 163
        },
        "outputId": "2eefca50-f8b3-4491-88fb-dc7f640ad5e7"
      },
      "source": [
        "tupperware[1] = 4 # cannot modify tuples"
      ],
      "execution_count": null,
      "outputs": [
        {
          "output_type": "error",
          "ename": "TypeError",
          "evalue": "ignored",
          "traceback": [
            "\u001b[0;31m---------------------------------------------------------------------------\u001b[0m",
            "\u001b[0;31mTypeError\u001b[0m                                 Traceback (most recent call last)",
            "\u001b[0;32m<ipython-input-10-bc91c297afb1>\u001b[0m in \u001b[0;36m<module>\u001b[0;34m()\u001b[0m\n\u001b[0;32m----> 1\u001b[0;31m \u001b[0mtupperware\u001b[0m\u001b[0;34m[\u001b[0m\u001b[0;36m1\u001b[0m\u001b[0;34m]\u001b[0m \u001b[0;34m=\u001b[0m \u001b[0;36m4\u001b[0m \u001b[0;31m# cannot modify tuples\u001b[0m\u001b[0;34m\u001b[0m\u001b[0;34m\u001b[0m\u001b[0m\n\u001b[0m",
            "\u001b[0;31mTypeError\u001b[0m: 'tuple' object does not support item assignment"
          ]
        }
      ]
    },
    {
      "cell_type": "code",
      "metadata": {
        "id": "dqcVlqo8hmNc",
        "colab": {
          "base_uri": "https://localhost:8080/"
        },
        "outputId": "0e3d0559-7ba2-4644-a488-699e1d6181e8"
      },
      "source": [
        "# dictionaries are a convenient data type to store key:value pairs (maps)\n",
        "# As we will see, dictionaries are the same as JSON objects\n",
        "# JSON objects are the fundamental structure used to pass around information\n",
        "# on the internet\n",
        "ages = {'Ben': 21, 'Newton': 84}\n",
        "print(ages)\n",
        "print(ages['Ben'])\n",
        "ages['Einstein'] = 76\n",
        "ages[5] = 'hi'\n",
        "print(ages)\n"
      ],
      "execution_count": 10,
      "outputs": [
        {
          "output_type": "stream",
          "text": [
            "{'Ben': 21, 'Newton': 84}\n",
            "21\n",
            "{'Ben': 21, 'Newton': 84, 'Einstein': 76, 5: 'hi'}\n"
          ],
          "name": "stdout"
        }
      ]
    },
    {
      "cell_type": "markdown",
      "metadata": {
        "id": "SXTt1s5ChmNg"
      },
      "source": [
        "### Loops"
      ]
    },
    {
      "cell_type": "code",
      "metadata": {
        "id": "WXe9P7kPY7TK",
        "colab": {
          "base_uri": "https://localhost:8080/"
        },
        "outputId": "aff3ba6f-888d-4dac-83ca-6dd3b86cf562"
      },
      "source": [
        "# basic for loops\n",
        "for i in range(5):\n",
        "    print(i)\n",
        "    \n",
        "print()\n",
        "\n",
        "# can loop over any iterable\n",
        "for f in fruit:\n",
        "    print(f)"
      ],
      "execution_count": 11,
      "outputs": [
        {
          "output_type": "stream",
          "text": [
            "0\n",
            "1\n",
            "2\n",
            "3\n",
            "4\n",
            "\n",
            "apple\n",
            "pear\n",
            "tomato\n",
            "salmon\n",
            "trout\n"
          ],
          "name": "stdout"
        }
      ]
    },
    {
      "cell_type": "markdown",
      "metadata": {
        "id": "ePT1d17kYi8x"
      },
      "source": [
        "Enumerate Function - https://www.geeksforgeeks.org/enumerate-in-python/\n",
        "\n",
        "Zip Function - https://www.w3schools.com/python/ref_func_zip.asp"
      ]
    },
    {
      "cell_type": "code",
      "metadata": {
        "id": "WNGy5yoQhmNk",
        "colab": {
          "base_uri": "https://localhost:8080/"
        },
        "outputId": "0f0e108f-db1a-468d-e7d7-f63840417efc"
      },
      "source": [
        "# advanced for loops\n",
        "for idx, item in enumerate(fruit):\n",
        "    print(idx, item)\n",
        "    \n",
        "print()\n",
        "\n",
        "a = [3, 1, 4, 1, 5]\n",
        "b = [2, 7, 1, 8, 2]\n",
        "\n",
        "for f, pi, e in zip(fruit, a, b):\n",
        "    print(f, pi, e)"
      ],
      "execution_count": 12,
      "outputs": [
        {
          "output_type": "stream",
          "text": [
            "0 apple\n",
            "1 pear\n",
            "2 tomato\n",
            "3 salmon\n",
            "4 trout\n",
            "\n",
            "apple 3 2\n",
            "pear 1 7\n",
            "tomato 4 1\n",
            "salmon 1 8\n",
            "trout 5 2\n"
          ],
          "name": "stdout"
        }
      ]
    },
    {
      "cell_type": "code",
      "metadata": {
        "id": "ZvklNGh_hmNm",
        "colab": {
          "base_uri": "https://localhost:8080/"
        },
        "outputId": "4cf57f24-9bf3-4411-992b-a09d61add6ef"
      },
      "source": [
        "# while loops\n",
        "my_str = \"Ben\"\n",
        "\n",
        "while len(my_str) < 10:\n",
        "    my_str += ' 10'\n",
        "\n",
        "print(my_str)"
      ],
      "execution_count": 13,
      "outputs": [
        {
          "output_type": "stream",
          "text": [
            "Ben 10 10 10\n"
          ],
          "name": "stdout"
        }
      ]
    },
    {
      "cell_type": "code",
      "metadata": {
        "id": "oAhrfGXBjvqo",
        "colab": {
          "base_uri": "https://localhost:8080/"
        },
        "outputId": "c9c94a89-679a-4741-9e6b-c31e32262929"
      },
      "source": [
        "# A useful way to make lists is using list comprehensions\n",
        "a = [x**2 for x in range(10)]\n",
        "print(a)"
      ],
      "execution_count": 14,
      "outputs": [
        {
          "output_type": "stream",
          "text": [
            "[0, 1, 4, 9, 16, 25, 36, 49, 64, 81]\n"
          ],
          "name": "stdout"
        }
      ]
    },
    {
      "cell_type": "markdown",
      "metadata": {
        "id": "8NgCGhCZhmNp"
      },
      "source": [
        "## Functions + Classes"
      ]
    },
    {
      "cell_type": "code",
      "metadata": {
        "id": "nvIEacV5hmNq",
        "colab": {
          "base_uri": "https://localhost:8080/"
        },
        "outputId": "117fc7c3-e750-4900-f519-f90fed771b66"
      },
      "source": [
        "# this is a function - I will expect most of your code to be in functions\n",
        "def square_this(x):\n",
        "    return x * x\n",
        "\n",
        "print(square_this(4))\n"
      ],
      "execution_count": 15,
      "outputs": [
        {
          "output_type": "stream",
          "text": [
            "16\n"
          ],
          "name": "stdout"
        }
      ]
    },
    {
      "cell_type": "code",
      "metadata": {
        "id": "B3TlTZsohmNu",
        "colab": {
          "base_uri": "https://localhost:8080/"
        },
        "outputId": "c287ef9f-4dc6-4d67-8633-74651c93b0b0"
      },
      "source": [
        "# Classes are convenient ways to package several pieces of information together\n",
        "class Squaring:\n",
        "    \n",
        "    # this is the constructor\n",
        "    def __init__(self, a, b=4):\n",
        "        self._a = a\n",
        "        self._b = b\n",
        "    \n",
        "    # this is a method\n",
        "    def square(self, x):\n",
        "        return x * x\n",
        "    \n",
        "    # this is a static method\n",
        "    @staticmethod\n",
        "    def mymethod(x):\n",
        "        return x**3\n",
        "\n",
        "sq = Squaring(3)\n",
        "print('method:', sq.square(3))\n",
        "print('static method:', Squaring.mymethod(5))\n",
        "print('a:', sq._a)\n",
        "print('b:', sq._b)"
      ],
      "execution_count": 16,
      "outputs": [
        {
          "output_type": "stream",
          "text": [
            "method: 9\n",
            "static method: 125\n",
            "a: 3\n",
            "b: 4\n"
          ],
          "name": "stdout"
        }
      ]
    },
    {
      "cell_type": "markdown",
      "metadata": {
        "id": "3d3QgFt-hmNz"
      },
      "source": [
        "# Numpy\n",
        "Numpy is a powerful scientific computing library for Python. It uses C/C++ in the background to speed up computation"
      ]
    },
    {
      "cell_type": "code",
      "metadata": {
        "id": "q_-vQUIChmN0",
        "colab": {
          "base_uri": "https://localhost:8080/"
        },
        "outputId": "8fed81b3-6166-450f-ceda-f3f0f7312f47"
      },
      "source": [
        "import numpy as np\n",
        "\n",
        "a = np.array([1,2,3,4,5])\n",
        "b = np.array([5,4,3,2,1])\n",
        "c = a + b # can do elementwise operations\n",
        "print(c)\n",
        "print(a*b)\n",
        "print(a[3:5]) # can use same indexing as lists\n",
        "print(type(a))"
      ],
      "execution_count": 17,
      "outputs": [
        {
          "output_type": "stream",
          "text": [
            "[6 6 6 6 6]\n",
            "[5 8 9 8 5]\n",
            "[4 5]\n",
            "<class 'numpy.ndarray'>\n"
          ],
          "name": "stdout"
        }
      ]
    },
    {
      "cell_type": "code",
      "metadata": {
        "id": "688tA2VdhmN3",
        "colab": {
          "base_uri": "https://localhost:8080/"
        },
        "outputId": "bb0ffb98-4152-4dfa-e291-bae91a8e8492"
      },
      "source": [
        "A = np.array([[1,2], [3,4]]) # can create multidimensional arrays\n",
        "print(A)\n",
        "print(A.shape) # this specifies the number of rows and columns\n",
        "print(A[0]) # indexing into rows\n",
        "print(A[:,1]) # indexing into columns\n",
        "print(A[1,1], A[1][1]) # indexing into rows and columns\n",
        "print(A[:,1].T) \n",
        "print(np.shape(A[:,1]))\n"
      ],
      "execution_count": 18,
      "outputs": [
        {
          "output_type": "stream",
          "text": [
            "[[1 2]\n",
            " [3 4]]\n",
            "(2, 2)\n",
            "[1 2]\n",
            "[2 4]\n",
            "4 4\n",
            "[2 4]\n",
            "(2,)\n"
          ],
          "name": "stdout"
        }
      ]
    },
    {
      "cell_type": "code",
      "metadata": {
        "id": "MXy8vBsbhmN5",
        "colab": {
          "base_uri": "https://localhost:8080/"
        },
        "outputId": "7bf7c973-e544-4614-a5c5-81986c34d78e"
      },
      "source": [
        "# can create special types of arrays\n",
        "a = np.zeros((4,4))\n",
        "b = np.ones(3)\n",
        "c = np.random.random(5)\n",
        "print(a)\n",
        "print(b)\n",
        "print(c)"
      ],
      "execution_count": 19,
      "outputs": [
        {
          "output_type": "stream",
          "text": [
            "[[0. 0. 0. 0.]\n",
            " [0. 0. 0. 0.]\n",
            " [0. 0. 0. 0.]\n",
            " [0. 0. 0. 0.]]\n",
            "[1. 1. 1.]\n",
            "[0.38226528 0.61393967 0.89785543 0.81711072 0.22146844]\n"
          ],
          "name": "stdout"
        }
      ]
    },
    {
      "cell_type": "code",
      "metadata": {
        "id": "-3fms6OWhmN8",
        "colab": {
          "base_uri": "https://localhost:8080/"
        },
        "outputId": "21d94047-4d6c-4311-cdf0-d63866f1f7e5"
      },
      "source": [
        "# matrices\n",
        "A = np.array([[1,2],[3,4]])\n",
        "B = np.array([[1, 0],[0, 1]]) # identity matrix (same as np.eye(2))\n",
        "\n",
        "print(A + B)\n",
        "print()\n",
        "print(A @ B)#@ is matrix multiplication \n",
        "print(A * B)#* is elementwise multiplication. You probably don't mean this"
      ],
      "execution_count": 20,
      "outputs": [
        {
          "output_type": "stream",
          "text": [
            "[[2 2]\n",
            " [3 5]]\n",
            "\n",
            "[[1 2]\n",
            " [3 4]]\n",
            "[[1 0]\n",
            " [0 4]]\n"
          ],
          "name": "stdout"
        }
      ]
    },
    {
      "cell_type": "code",
      "metadata": {
        "id": "gs2IjJBLhmN-",
        "colab": {
          "base_uri": "https://localhost:8080/"
        },
        "outputId": "02ea02b1-0cad-4d51-b96f-3b2a4a0b0a3e"
      },
      "source": [
        "# numpy functions (see documentation for more)\n",
        "A = np.array([[1,1],[2,2],[3,3]])\n",
        "print(A)\n",
        "print(np.sum(A)) # can sum all elements\n",
        "print(np.sum(A, axis=0)) # can also sum along a dimension (0)\n",
        "print(np.sum(A, axis=1)) # can also sum along a dimension (1)\n"
      ],
      "execution_count": 21,
      "outputs": [
        {
          "output_type": "stream",
          "text": [
            "[[1 1]\n",
            " [2 2]\n",
            " [3 3]]\n",
            "12\n",
            "[6 6]\n",
            "[2 4 6]\n"
          ],
          "name": "stdout"
        }
      ]
    },
    {
      "cell_type": "code",
      "metadata": {
        "id": "ghx30P5RhmOB",
        "colab": {
          "base_uri": "https://localhost:8080/"
        },
        "outputId": "0e476d87-dbc0-4fe6-fdf7-16bfb5e07afd"
      },
      "source": [
        "# use numpy to speedup computation\n",
        "# as a rule, use numpy operations to calculate things, not for loops.\n",
        "# e.g. call np.sum don't sum over a for loop of the elements.\n",
        "import time\n",
        "n = 100000\n",
        "a = np.ones(n)\n",
        "b = np.ones(n)\n",
        "start = time.time()\n",
        "\n",
        "res = a + b\n",
        "\n",
        "numpy_time = time.time() - start\n",
        "print(\"time:\", numpy_time)\n",
        "\n",
        "res = []\n",
        "start = time.time()\n",
        "\n",
        "for i in range(n):\n",
        "    res.append(a[i] + b[i])\n",
        "    \n",
        "loop_time = time.time() - start\n",
        "print(\"time:\", loop_time)\n",
        "\n",
        "print(\"speedup x:\", loop_time / numpy_time)\n"
      ],
      "execution_count": 22,
      "outputs": [
        {
          "output_type": "stream",
          "text": [
            "time: 0.0006616115570068359\n",
            "time: 0.08106446266174316\n",
            "speedup x: 122.52576576576577\n"
          ],
          "name": "stdout"
        }
      ]
    },
    {
      "cell_type": "markdown",
      "metadata": {
        "id": "YppEIzwaZXQ7"
      },
      "source": [
        "# Pandas\n",
        "Pandas is a library used to data manipulation and analysis"
      ]
    },
    {
      "cell_type": "code",
      "metadata": {
        "id": "MJ1CqQDfZlDw"
      },
      "source": [
        "import pandas as pd"
      ],
      "execution_count": 23,
      "outputs": []
    },
    {
      "cell_type": "code",
      "metadata": {
        "id": "MKd89MtoaSkq",
        "colab": {
          "base_uri": "https://localhost:8080/"
        },
        "outputId": "f59c2c75-c342-4d21-bc81-c6cac575fa02"
      },
      "source": [
        "# How to create a series using pandas\n",
        "df = pd.Series([1, 2, 3, 4, 5], \n",
        "               index=['a', 'b', 'c', 'd', 'e'])\n",
        "print(df)"
      ],
      "execution_count": 24,
      "outputs": [
        {
          "output_type": "stream",
          "text": [
            "a    1\n",
            "b    2\n",
            "c    3\n",
            "d    4\n",
            "e    5\n",
            "dtype: int64\n"
          ],
          "name": "stdout"
        }
      ]
    },
    {
      "cell_type": "code",
      "metadata": {
        "id": "lv3ES9qeaEky",
        "colab": {
          "base_uri": "https://localhost:8080/"
        },
        "outputId": "2c9803d7-b280-497e-b0c1-92997a288c84"
      },
      "source": [
        "# How to make a dataframe using pandas\n",
        "df = pd.DataFrame({\"a\" : [4 ,5, 6], \n",
        "                   \"b\" : [7, 8, 9], \n",
        "                   \"c\" : [10, 11, 12]}, \n",
        "                    index = [1, 2, 3])\n",
        "print(df)"
      ],
      "execution_count": 25,
      "outputs": [
        {
          "output_type": "stream",
          "text": [
            "   a  b   c\n",
            "1  4  7  10\n",
            "2  5  8  11\n",
            "3  6  9  12\n"
          ],
          "name": "stdout"
        }
      ]
    },
    {
      "cell_type": "code",
      "metadata": {
        "id": "GG158dfFZml3",
        "colab": {
          "base_uri": "https://localhost:8080/",
          "height": 391
        },
        "outputId": "c0e483da-26e5-48ba-b8cd-d795875a6ac1"
      },
      "source": [
        "# How to read a .csv file\n",
        "df = pd.read_csv('data.csv')"
      ],
      "execution_count": 26,
      "outputs": [
        {
          "output_type": "error",
          "ename": "FileNotFoundError",
          "evalue": "ignored",
          "traceback": [
            "\u001b[0;31m---------------------------------------------------------------------------\u001b[0m",
            "\u001b[0;31mFileNotFoundError\u001b[0m                         Traceback (most recent call last)",
            "\u001b[0;32m<ipython-input-26-9b80f28d94a2>\u001b[0m in \u001b[0;36m<module>\u001b[0;34m()\u001b[0m\n\u001b[1;32m      1\u001b[0m \u001b[0;31m# How to read a .csv file\u001b[0m\u001b[0;34m\u001b[0m\u001b[0;34m\u001b[0m\u001b[0;34m\u001b[0m\u001b[0m\n\u001b[0;32m----> 2\u001b[0;31m \u001b[0mdf\u001b[0m \u001b[0;34m=\u001b[0m \u001b[0mpd\u001b[0m\u001b[0;34m.\u001b[0m\u001b[0mread_csv\u001b[0m\u001b[0;34m(\u001b[0m\u001b[0;34m'data.csv'\u001b[0m\u001b[0;34m)\u001b[0m\u001b[0;34m\u001b[0m\u001b[0;34m\u001b[0m\u001b[0m\n\u001b[0m",
            "\u001b[0;32m/usr/local/lib/python3.7/dist-packages/pandas/io/parsers.py\u001b[0m in \u001b[0;36mread_csv\u001b[0;34m(filepath_or_buffer, sep, delimiter, header, names, index_col, usecols, squeeze, prefix, mangle_dupe_cols, dtype, engine, converters, true_values, false_values, skipinitialspace, skiprows, skipfooter, nrows, na_values, keep_default_na, na_filter, verbose, skip_blank_lines, parse_dates, infer_datetime_format, keep_date_col, date_parser, dayfirst, cache_dates, iterator, chunksize, compression, thousands, decimal, lineterminator, quotechar, quoting, doublequote, escapechar, comment, encoding, dialect, error_bad_lines, warn_bad_lines, delim_whitespace, low_memory, memory_map, float_precision)\u001b[0m\n\u001b[1;32m    686\u001b[0m     )\n\u001b[1;32m    687\u001b[0m \u001b[0;34m\u001b[0m\u001b[0m\n\u001b[0;32m--> 688\u001b[0;31m     \u001b[0;32mreturn\u001b[0m \u001b[0m_read\u001b[0m\u001b[0;34m(\u001b[0m\u001b[0mfilepath_or_buffer\u001b[0m\u001b[0;34m,\u001b[0m \u001b[0mkwds\u001b[0m\u001b[0;34m)\u001b[0m\u001b[0;34m\u001b[0m\u001b[0;34m\u001b[0m\u001b[0m\n\u001b[0m\u001b[1;32m    689\u001b[0m \u001b[0;34m\u001b[0m\u001b[0m\n\u001b[1;32m    690\u001b[0m \u001b[0;34m\u001b[0m\u001b[0m\n",
            "\u001b[0;32m/usr/local/lib/python3.7/dist-packages/pandas/io/parsers.py\u001b[0m in \u001b[0;36m_read\u001b[0;34m(filepath_or_buffer, kwds)\u001b[0m\n\u001b[1;32m    452\u001b[0m \u001b[0;34m\u001b[0m\u001b[0m\n\u001b[1;32m    453\u001b[0m     \u001b[0;31m# Create the parser.\u001b[0m\u001b[0;34m\u001b[0m\u001b[0;34m\u001b[0m\u001b[0;34m\u001b[0m\u001b[0m\n\u001b[0;32m--> 454\u001b[0;31m     \u001b[0mparser\u001b[0m \u001b[0;34m=\u001b[0m \u001b[0mTextFileReader\u001b[0m\u001b[0;34m(\u001b[0m\u001b[0mfp_or_buf\u001b[0m\u001b[0;34m,\u001b[0m \u001b[0;34m**\u001b[0m\u001b[0mkwds\u001b[0m\u001b[0;34m)\u001b[0m\u001b[0;34m\u001b[0m\u001b[0;34m\u001b[0m\u001b[0m\n\u001b[0m\u001b[1;32m    455\u001b[0m \u001b[0;34m\u001b[0m\u001b[0m\n\u001b[1;32m    456\u001b[0m     \u001b[0;32mif\u001b[0m \u001b[0mchunksize\u001b[0m \u001b[0;32mor\u001b[0m \u001b[0miterator\u001b[0m\u001b[0;34m:\u001b[0m\u001b[0;34m\u001b[0m\u001b[0;34m\u001b[0m\u001b[0m\n",
            "\u001b[0;32m/usr/local/lib/python3.7/dist-packages/pandas/io/parsers.py\u001b[0m in \u001b[0;36m__init__\u001b[0;34m(self, f, engine, **kwds)\u001b[0m\n\u001b[1;32m    946\u001b[0m             \u001b[0mself\u001b[0m\u001b[0;34m.\u001b[0m\u001b[0moptions\u001b[0m\u001b[0;34m[\u001b[0m\u001b[0;34m\"has_index_names\"\u001b[0m\u001b[0;34m]\u001b[0m \u001b[0;34m=\u001b[0m \u001b[0mkwds\u001b[0m\u001b[0;34m[\u001b[0m\u001b[0;34m\"has_index_names\"\u001b[0m\u001b[0;34m]\u001b[0m\u001b[0;34m\u001b[0m\u001b[0;34m\u001b[0m\u001b[0m\n\u001b[1;32m    947\u001b[0m \u001b[0;34m\u001b[0m\u001b[0m\n\u001b[0;32m--> 948\u001b[0;31m         \u001b[0mself\u001b[0m\u001b[0;34m.\u001b[0m\u001b[0m_make_engine\u001b[0m\u001b[0;34m(\u001b[0m\u001b[0mself\u001b[0m\u001b[0;34m.\u001b[0m\u001b[0mengine\u001b[0m\u001b[0;34m)\u001b[0m\u001b[0;34m\u001b[0m\u001b[0;34m\u001b[0m\u001b[0m\n\u001b[0m\u001b[1;32m    949\u001b[0m \u001b[0;34m\u001b[0m\u001b[0m\n\u001b[1;32m    950\u001b[0m     \u001b[0;32mdef\u001b[0m \u001b[0mclose\u001b[0m\u001b[0;34m(\u001b[0m\u001b[0mself\u001b[0m\u001b[0;34m)\u001b[0m\u001b[0;34m:\u001b[0m\u001b[0;34m\u001b[0m\u001b[0;34m\u001b[0m\u001b[0m\n",
            "\u001b[0;32m/usr/local/lib/python3.7/dist-packages/pandas/io/parsers.py\u001b[0m in \u001b[0;36m_make_engine\u001b[0;34m(self, engine)\u001b[0m\n\u001b[1;32m   1178\u001b[0m     \u001b[0;32mdef\u001b[0m \u001b[0m_make_engine\u001b[0m\u001b[0;34m(\u001b[0m\u001b[0mself\u001b[0m\u001b[0;34m,\u001b[0m \u001b[0mengine\u001b[0m\u001b[0;34m=\u001b[0m\u001b[0;34m\"c\"\u001b[0m\u001b[0;34m)\u001b[0m\u001b[0;34m:\u001b[0m\u001b[0;34m\u001b[0m\u001b[0;34m\u001b[0m\u001b[0m\n\u001b[1;32m   1179\u001b[0m         \u001b[0;32mif\u001b[0m \u001b[0mengine\u001b[0m \u001b[0;34m==\u001b[0m \u001b[0;34m\"c\"\u001b[0m\u001b[0;34m:\u001b[0m\u001b[0;34m\u001b[0m\u001b[0;34m\u001b[0m\u001b[0m\n\u001b[0;32m-> 1180\u001b[0;31m             \u001b[0mself\u001b[0m\u001b[0;34m.\u001b[0m\u001b[0m_engine\u001b[0m \u001b[0;34m=\u001b[0m \u001b[0mCParserWrapper\u001b[0m\u001b[0;34m(\u001b[0m\u001b[0mself\u001b[0m\u001b[0;34m.\u001b[0m\u001b[0mf\u001b[0m\u001b[0;34m,\u001b[0m \u001b[0;34m**\u001b[0m\u001b[0mself\u001b[0m\u001b[0;34m.\u001b[0m\u001b[0moptions\u001b[0m\u001b[0;34m)\u001b[0m\u001b[0;34m\u001b[0m\u001b[0;34m\u001b[0m\u001b[0m\n\u001b[0m\u001b[1;32m   1181\u001b[0m         \u001b[0;32melse\u001b[0m\u001b[0;34m:\u001b[0m\u001b[0;34m\u001b[0m\u001b[0;34m\u001b[0m\u001b[0m\n\u001b[1;32m   1182\u001b[0m             \u001b[0;32mif\u001b[0m \u001b[0mengine\u001b[0m \u001b[0;34m==\u001b[0m \u001b[0;34m\"python\"\u001b[0m\u001b[0;34m:\u001b[0m\u001b[0;34m\u001b[0m\u001b[0;34m\u001b[0m\u001b[0m\n",
            "\u001b[0;32m/usr/local/lib/python3.7/dist-packages/pandas/io/parsers.py\u001b[0m in \u001b[0;36m__init__\u001b[0;34m(self, src, **kwds)\u001b[0m\n\u001b[1;32m   2008\u001b[0m         \u001b[0mkwds\u001b[0m\u001b[0;34m[\u001b[0m\u001b[0;34m\"usecols\"\u001b[0m\u001b[0;34m]\u001b[0m \u001b[0;34m=\u001b[0m \u001b[0mself\u001b[0m\u001b[0;34m.\u001b[0m\u001b[0musecols\u001b[0m\u001b[0;34m\u001b[0m\u001b[0;34m\u001b[0m\u001b[0m\n\u001b[1;32m   2009\u001b[0m \u001b[0;34m\u001b[0m\u001b[0m\n\u001b[0;32m-> 2010\u001b[0;31m         \u001b[0mself\u001b[0m\u001b[0;34m.\u001b[0m\u001b[0m_reader\u001b[0m \u001b[0;34m=\u001b[0m \u001b[0mparsers\u001b[0m\u001b[0;34m.\u001b[0m\u001b[0mTextReader\u001b[0m\u001b[0;34m(\u001b[0m\u001b[0msrc\u001b[0m\u001b[0;34m,\u001b[0m \u001b[0;34m**\u001b[0m\u001b[0mkwds\u001b[0m\u001b[0;34m)\u001b[0m\u001b[0;34m\u001b[0m\u001b[0;34m\u001b[0m\u001b[0m\n\u001b[0m\u001b[1;32m   2011\u001b[0m         \u001b[0mself\u001b[0m\u001b[0;34m.\u001b[0m\u001b[0munnamed_cols\u001b[0m \u001b[0;34m=\u001b[0m \u001b[0mself\u001b[0m\u001b[0;34m.\u001b[0m\u001b[0m_reader\u001b[0m\u001b[0;34m.\u001b[0m\u001b[0munnamed_cols\u001b[0m\u001b[0;34m\u001b[0m\u001b[0;34m\u001b[0m\u001b[0m\n\u001b[1;32m   2012\u001b[0m \u001b[0;34m\u001b[0m\u001b[0m\n",
            "\u001b[0;32mpandas/_libs/parsers.pyx\u001b[0m in \u001b[0;36mpandas._libs.parsers.TextReader.__cinit__\u001b[0;34m()\u001b[0m\n",
            "\u001b[0;32mpandas/_libs/parsers.pyx\u001b[0m in \u001b[0;36mpandas._libs.parsers.TextReader._setup_parser_source\u001b[0;34m()\u001b[0m\n",
            "\u001b[0;31mFileNotFoundError\u001b[0m: [Errno 2] No such file or directory: 'data.csv'"
          ]
        }
      ]
    },
    {
      "cell_type": "code",
      "metadata": {
        "id": "blpbIV3hiWak",
        "colab": {
          "base_uri": "https://localhost:8080/",
          "height": 204
        },
        "outputId": "2e5996e7-89ed-4a27-88c2-a8be0f7a90ea"
      },
      "source": [
        "# This will show the first 5 rows of your dataframe\n",
        "df.head()"
      ],
      "execution_count": null,
      "outputs": [
        {
          "output_type": "execute_result",
          "data": {
            "text/html": [
              "<div>\n",
              "<style scoped>\n",
              "    .dataframe tbody tr th:only-of-type {\n",
              "        vertical-align: middle;\n",
              "    }\n",
              "\n",
              "    .dataframe tbody tr th {\n",
              "        vertical-align: top;\n",
              "    }\n",
              "\n",
              "    .dataframe thead th {\n",
              "        text-align: right;\n",
              "    }\n",
              "</style>\n",
              "<table border=\"1\" class=\"dataframe\">\n",
              "  <thead>\n",
              "    <tr style=\"text-align: right;\">\n",
              "      <th></th>\n",
              "      <th>Name</th>\n",
              "      <th>Goals</th>\n",
              "    </tr>\n",
              "  </thead>\n",
              "  <tbody>\n",
              "    <tr>\n",
              "      <th>0</th>\n",
              "      <td>Cristiano Ronaldo</td>\n",
              "      <td>10</td>\n",
              "    </tr>\n",
              "    <tr>\n",
              "      <th>1</th>\n",
              "      <td>Lionel Messi</td>\n",
              "      <td>20</td>\n",
              "    </tr>\n",
              "    <tr>\n",
              "      <th>2</th>\n",
              "      <td>Neymar Jr.</td>\n",
              "      <td>5</td>\n",
              "    </tr>\n",
              "    <tr>\n",
              "      <th>3</th>\n",
              "      <td>Eden Hazard</td>\n",
              "      <td>11</td>\n",
              "    </tr>\n",
              "    <tr>\n",
              "      <th>4</th>\n",
              "      <td>Luis Suarez</td>\n",
              "      <td>7</td>\n",
              "    </tr>\n",
              "  </tbody>\n",
              "</table>\n",
              "</div>"
            ],
            "text/plain": [
              "                Name  Goals\n",
              "0  Cristiano Ronaldo     10\n",
              "1       Lionel Messi     20\n",
              "2         Neymar Jr.      5\n",
              "3        Eden Hazard     11\n",
              "4        Luis Suarez      7"
            ]
          },
          "metadata": {
            "tags": []
          },
          "execution_count": 29
        }
      ]
    },
    {
      "cell_type": "code",
      "metadata": {
        "id": "pjm2yXUjiYni",
        "colab": {
          "base_uri": "https://localhost:8080/",
          "height": 297
        },
        "outputId": "58d60d64-f438-4614-c4ae-a85369cf13b4"
      },
      "source": [
        "# This gives a statistical description of the data\n",
        "df.describe()"
      ],
      "execution_count": null,
      "outputs": [
        {
          "output_type": "execute_result",
          "data": {
            "text/html": [
              "<div>\n",
              "<style scoped>\n",
              "    .dataframe tbody tr th:only-of-type {\n",
              "        vertical-align: middle;\n",
              "    }\n",
              "\n",
              "    .dataframe tbody tr th {\n",
              "        vertical-align: top;\n",
              "    }\n",
              "\n",
              "    .dataframe thead th {\n",
              "        text-align: right;\n",
              "    }\n",
              "</style>\n",
              "<table border=\"1\" class=\"dataframe\">\n",
              "  <thead>\n",
              "    <tr style=\"text-align: right;\">\n",
              "      <th></th>\n",
              "      <th>Goals</th>\n",
              "    </tr>\n",
              "  </thead>\n",
              "  <tbody>\n",
              "    <tr>\n",
              "      <th>count</th>\n",
              "      <td>6.000000</td>\n",
              "    </tr>\n",
              "    <tr>\n",
              "      <th>mean</th>\n",
              "      <td>11.166667</td>\n",
              "    </tr>\n",
              "    <tr>\n",
              "      <th>std</th>\n",
              "      <td>5.344779</td>\n",
              "    </tr>\n",
              "    <tr>\n",
              "      <th>min</th>\n",
              "      <td>5.000000</td>\n",
              "    </tr>\n",
              "    <tr>\n",
              "      <th>25%</th>\n",
              "      <td>7.750000</td>\n",
              "    </tr>\n",
              "    <tr>\n",
              "      <th>50%</th>\n",
              "      <td>10.500000</td>\n",
              "    </tr>\n",
              "    <tr>\n",
              "      <th>75%</th>\n",
              "      <td>13.250000</td>\n",
              "    </tr>\n",
              "    <tr>\n",
              "      <th>max</th>\n",
              "      <td>20.000000</td>\n",
              "    </tr>\n",
              "  </tbody>\n",
              "</table>\n",
              "</div>"
            ],
            "text/plain": [
              "           Goals\n",
              "count   6.000000\n",
              "mean   11.166667\n",
              "std     5.344779\n",
              "min     5.000000\n",
              "25%     7.750000\n",
              "50%    10.500000\n",
              "75%    13.250000\n",
              "max    20.000000"
            ]
          },
          "metadata": {
            "tags": []
          },
          "execution_count": 30
        }
      ]
    },
    {
      "cell_type": "code",
      "metadata": {
        "id": "iO9s4Ft5ifND",
        "colab": {
          "base_uri": "https://localhost:8080/",
          "height": 111
        },
        "outputId": "5b1c1b57-a927-41f8-c130-e0f5899a2742"
      },
      "source": [
        "# This randomly outputs 2 samples (try running it multiple times to see different results)\n",
        "df.sample(2)"
      ],
      "execution_count": null,
      "outputs": [
        {
          "output_type": "execute_result",
          "data": {
            "text/html": [
              "<div>\n",
              "<style scoped>\n",
              "    .dataframe tbody tr th:only-of-type {\n",
              "        vertical-align: middle;\n",
              "    }\n",
              "\n",
              "    .dataframe tbody tr th {\n",
              "        vertical-align: top;\n",
              "    }\n",
              "\n",
              "    .dataframe thead th {\n",
              "        text-align: right;\n",
              "    }\n",
              "</style>\n",
              "<table border=\"1\" class=\"dataframe\">\n",
              "  <thead>\n",
              "    <tr style=\"text-align: right;\">\n",
              "      <th></th>\n",
              "      <th>Name</th>\n",
              "      <th>Goals</th>\n",
              "    </tr>\n",
              "  </thead>\n",
              "  <tbody>\n",
              "    <tr>\n",
              "      <th>3</th>\n",
              "      <td>Eden Hazard</td>\n",
              "      <td>11</td>\n",
              "    </tr>\n",
              "    <tr>\n",
              "      <th>2</th>\n",
              "      <td>Neymar Jr.</td>\n",
              "      <td>5</td>\n",
              "    </tr>\n",
              "  </tbody>\n",
              "</table>\n",
              "</div>"
            ],
            "text/plain": [
              "          Name  Goals\n",
              "3  Eden Hazard     11\n",
              "2   Neymar Jr.      5"
            ]
          },
          "metadata": {
            "tags": []
          },
          "execution_count": 31
        }
      ]
    },
    {
      "cell_type": "markdown",
      "metadata": {
        "id": "YAa5iv7ihmOG"
      },
      "source": [
        "# Matplotlib\n",
        "Matplotlib is a library used to visualize data"
      ]
    },
    {
      "cell_type": "code",
      "metadata": {
        "id": "WeGRfTTJhmOG"
      },
      "source": [
        "import matplotlib.pyplot as plt"
      ],
      "execution_count": 27,
      "outputs": []
    },
    {
      "cell_type": "code",
      "metadata": {
        "id": "bjo0-s4OhmOJ",
        "colab": {
          "base_uri": "https://localhost:8080/",
          "height": 299
        },
        "outputId": "0aa9735c-edd0-4dc9-8b51-9f4a567e6983"
      },
      "source": [
        "# basic plotting (show scatter and plot)\n",
        "xs = np.arange(10)\n",
        "ys = xs ** 2\n",
        "plt.scatter(xs, ys)\n",
        "plt.plot(xs, ys)\n",
        "\n",
        "# ALWAYS label your plots!\n",
        "plt.title('plot of $x^2$ vs $x$')\n",
        "plt.xlabel('$x$')\n",
        "plt.ylabel('$x^2$')\n",
        "plt.show()"
      ],
      "execution_count": 28,
      "outputs": [
        {
          "output_type": "display_data",
          "data": {
            "image/png": "[encoded data removed]",
            "text/plain": [
              "<Figure size 432x288 with 1 Axes>"
            ]
          },
          "metadata": {
            "tags": [],
            "needs_background": "light"
          }
        }
      ]
    },
    {
      "cell_type": "markdown",
      "metadata": {
        "id": "5S_0CioCiLSF"
      },
      "source": [
        "# Exercise"
      ]
    },
    {
      "cell_type": "markdown",
      "metadata": {
        "id": "orNCFsscjdxP"
      },
      "source": [
        "Accept two integer numbers from a user. If the product is less than 1000, return the product. If the product is greater than 1000, then return their sum.\n",
        "\n",
        "---\n",
        "\n"
      ]
    },
    {
      "cell_type": "code",
      "metadata": {
        "id": "_ebELdjwjToi",
        "colab": {
          "base_uri": "https://localhost:8080/"
        },
        "outputId": "7eba98c8-dcee-4035-fade-61e6a4aae37c"
      },
      "source": [
        "# Exercise Function\n",
        "# 2 Integers -> Integer \n",
        "# Takes two integers, if the product of both is less than 1000, return the product,\n",
        "# if the product of both is greater than 1000, return the sum.\n",
        "######################\n",
        "#def g(x,y):#template#\n",
        "    #answer=x*y#.....#\n",
        "    #return answer#..#\n",
        "######################\n",
        "def g(x,y):\n",
        "  if x*y < 1000:\n",
        "    answer=x*y\n",
        "    return answer\n",
        "  if x*y > 1000:\n",
        "    answer=x+y\n",
        "    return answer\n",
        "  else:\n",
        "    return 1000\n",
        "\n",
        "#Error checking\n",
        "if g(10,10)==100:\n",
        "  print(\"test 1 passed!\")\n",
        "else:\n",
        "  print(\"test 1 failed\")\n",
        "\n",
        "if g(200,15)==215:\n",
        "  print(\"test 2 passed!\")\n",
        "else:\n",
        "  print(\"test 2 failed\")\n",
        "\n",
        "if g(25,25)==625:\n",
        "  print(\"test 3 passed!\")\n",
        "else:\n",
        "  print(\"test 3 failed\")\n",
        "\n",
        "if g(-6,89)==-534:\n",
        "  print(\"test 4 passed!\")\n",
        "else:\n",
        "  print(\"test 4 failed\")\n",
        "\n",
        "\n",
        "\n",
        "\n"
      ],
      "execution_count": null,
      "outputs": [
        {
          "output_type": "stream",
          "text": [
            "test 1 passed!\n",
            "test 2 passed!\n",
            "test 3 passed!\n",
            "test 4 passed!\n"
          ],
          "name": "stdout"
        }
      ]
    }
  ]
}