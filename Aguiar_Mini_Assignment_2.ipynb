{
  "nbformat": 4,
  "nbformat_minor": 0,
  "metadata": {
    "colab": {
      "name": "Aguiar Mini-Assignment 2.ipynb",
      "provenance": [],
      "collapsed_sections": [],
      "include_colab_link": true
    },
    "kernelspec": {
      "name": "python3",
      "display_name": "Python 3"
    }
  },
  "cells": [
    {
      "cell_type": "markdown",
      "metadata": {
        "id": "view-in-github",
        "colab_type": "text"
      },
      "source": [
        "<a href=\"https://colab.research.google.com/github/Future-Denisovan/Mesopotamia/blob/main/Aguiar_Mini_Assignment_2.ipynb\" target=\"_parent\"><img src=\"https://colab.research.google.com/assets/colab-badge.svg\" alt=\"Open In Colab\"/></a>"
      ]
    },
    {
      "cell_type": "code",
      "metadata": {
        "id": "FdSvbfZdHa26"
      },
      "source": [
        "import matplotlib.pyplot as plt\n",
        "import numpy as np\n",
        "import scipy.stats\n",
        "import seaborn as sns"
      ],
      "execution_count": 1,
      "outputs": []
    },
    {
      "cell_type": "markdown",
      "metadata": {
        "id": "SofaZwJKHg8B"
      },
      "source": [
        "In this exercise we will analyze the setting of Swain vs Alabama and try to assess the decision of the Supreme Court.\n",
        "\n",
        "The underlying belief is that the jury was selected at random from the eligible jury pool. How can we test this? \n",
        "\n",
        "Let's first try to formulate this problem statistically. The underlying eligible jurors are our population. If things are truly random, our 100 person jury is a sample from this population. The random variable we are interested in, $X$, is the number of this black jurors. \n",
        "\n",
        "We can now try to answer the following question - what's the probability of getting a jury pool with 8 or less black men, on it if we selected random? Mathematically this is the same as asking, what is the probability that $X\\leq 8$?\n",
        "\n",
        "In lecture 1, we learned that we can repeatedly sample from an underlying population and use that to build a sampling distribution on $X$. So let's try that here. In the following code block, I have provided a function ``get_jury`` that when run returns an array of size 100 of 0's and 1's. The 100 entries represent the 100 jurors, and getting a 1 means that a given juror is black. \n",
        "\n",
        "You don't have to understand the implementation of ``get_jury``, but do run the following code block to understand it's output."
      ]
    },
    {
      "cell_type": "code",
      "metadata": {
        "id": "T3o8TYJrLZMN",
        "colab": {
          "base_uri": "https://localhost:8080/"
        },
        "outputId": "171c8c3f-14e8-45bf-b3c4-4f1f3d84519a"
      },
      "source": [
        "def get_jury():\n",
        "    return [int(np.random.rand() < .26) for i in range(100)]\n",
        "jury_sample = get_jury()\n",
        "print(jury_sample)"
      ],
      "execution_count": 54,
      "outputs": [
        {
          "output_type": "stream",
          "text": [
            "[0, 0, 0, 1, 1, 1, 0, 0, 1, 1, 0, 0, 0, 0, 1, 0, 0, 0, 0, 0, 0, 0, 1, 0, 0, 1, 1, 1, 0, 0, 0, 0, 1, 0, 1, 0, 0, 1, 0, 0, 1, 0, 0, 0, 0, 0, 1, 0, 0, 0, 0, 0, 0, 0, 1, 0, 0, 0, 1, 0, 0, 0, 0, 0, 0, 0, 0, 1, 0, 0, 0, 0, 0, 0, 0, 1, 0, 0, 0, 0, 0, 0, 0, 0, 0, 1, 0, 0, 1, 1, 0, 0, 0, 0, 1, 0, 1, 0, 0, 0]\n"
          ],
          "name": "stdout"
        }
      ]
    },
    {
      "cell_type": "markdown",
      "metadata": {
        "id": "VQBak4UiLm0X"
      },
      "source": [
        "In the following code block, given a ``jury_sample``, compute the number of 1's in the array. Since the jury is drawn randomly from the population, each time you run the code block, you will get a different answer (make sure you use a print statement). Anecdotally, how often do you see a number less than 8?\n"
      ]
    },
    {
      "cell_type": "code",
      "metadata": {
        "id": "3XlEN4QXLwvZ",
        "colab": {
          "base_uri": "https://localhost:8080/"
        },
        "outputId": "12855a81-49f1-45d2-e630-fac1637761a3"
      },
      "source": [
        "jury_sample = get_jury()\n",
        "count = sum(jury_sample)\n",
        "print(count)"
      ],
      "execution_count": 55,
      "outputs": [
        {
          "output_type": "stream",
          "text": [
            "27\n"
          ],
          "name": "stdout"
        }
      ]
    },
    {
      "cell_type": "markdown",
      "metadata": {
        "id": "kj4DBRGgMwF_"
      },
      "source": [
        "Now that we can simulate a random jury pool and count the number of black jurors in the pool, we can build the sampling distribution of $X$. Recall from class that the sampling distribution is just the distribution of possible values of $X$ if we can repeatedly sample from the underlying population. \n",
        "\n",
        "Using the ``sns.distplot`` command from the in-class exercise, simulate 100000 different jury pools and plot the resulting sampling distribution (it will take a minute or two)."
      ]
    },
    {
      "cell_type": "code",
      "metadata": {
        "id": "S9ddLKRNPc8U",
        "colab": {
          "base_uri": "https://localhost:8080/",
          "height": 265
        },
        "outputId": "3330a808-277b-4fcd-ecf3-e00aa415df06"
      },
      "source": [
        "import warnings\n",
        "warnings.simplefilter(action='ignore', category=FutureWarning)\n",
        "\n",
        "\n",
        "\n",
        "counts_array = []\n",
        "for i in range(100000):\n",
        "    jury_sample = get_jury()\n",
        "    count = sum(jury_sample)\n",
        "    counts_array.append(count)\n",
        "# Now plot a histogram\n",
        "sns.distplot(a=counts_array, bins=12)#Your Turn: Plot a histogram of counts_array \n",
        "plt.show()"
      ],
      "execution_count": 89,
      "outputs": [
        {
          "output_type": "display_data",
          "data": {
            "image/png": "[encoded data removed]",
            "text/plain": [
              "<Figure size 432x288 with 1 Axes>"
            ]
          },
          "metadata": {
            "tags": [],
            "needs_background": "light"
          }
        }
      ]
    },
    {
      "cell_type": "markdown",
      "metadata": {
        "id": "Bka4uHwZQICj"
      },
      "source": [
        "It remains to answer the question, \"What is the probability $X\\leq 8$?\". Compute the proportion of sample counts from the previous code block that are less than 8. (To check yourself, compare to the histogram in the previous block.)\n"
      ]
    },
    {
      "cell_type": "code",
      "metadata": {
        "id": "57i-QOi5QSmK",
        "colab": {
          "base_uri": "https://localhost:8080/"
        },
        "outputId": "6074ba8e-75be-446d-bb09-84ded70c4a75"
      },
      "source": [
        "# Your-turn: proportion of counts that are less then or equal to 8\n",
        "# Calculate Proportion Function\n",
        "# Array, Int->Float\n",
        "# Takes a 2D array and Integer, with rows of the array representing a random sample, and\n",
        "# columns representing the number of observations of that sample. The integer is user \n",
        "# defined, and is the desired percentage of samples with less then or equal proportion, \n",
        "# returns the probability in float form of the probability of that desired percentage.\n",
        "####Template######\n",
        "#def calprob(x): # \n",
        "#  answer=sum(x) #\n",
        "#  return answer #\n",
        "##################\n",
        "\n",
        "def calprob(x,p): \n",
        "  p = p+1 #Because equal to or less than and \n",
        "  per=0\n",
        "  tot_obs=np.shape(x)[0]#Total number of rows in array\n",
        "  tot_cri=0 #Total rows matching the criteria (less than the integer we put in p)\n",
        "  for i in x:\n",
        "    cntperrow=np.sum(i) \n",
        "    if cntperrow < p:\n",
        "      tot_cri = tot_cri + 1\n",
        "  per=tot_cri/tot_obs\n",
        "  return per\n",
        "  \n",
        "\n",
        "#Error checking\n",
        "a = np.array([[1,0,1,0], #First test array\n",
        "             [1,0,1,0]])\n",
        "p1 = 0 #What probability is x=<p1?\n",
        "testary=calprob(a,p1)\n",
        "if testary < 1: #Check \n",
        "  print(\"test 1 passed!\")\n",
        "else:\n",
        "  print(\"test 1 failed\")\n",
        "\n",
        "#Find the answer\n",
        "calprob(counts_array,8)\n",
        "\n",
        "\n"
      ],
      "execution_count": 91,
      "outputs": [
        {
          "output_type": "stream",
          "text": [
            "test 1 passed!\n"
          ],
          "name": "stdout"
        },
        {
          "output_type": "execute_result",
          "data": {
            "text/plain": [
              "1e-05"
            ]
          },
          "metadata": {
            "tags": []
          },
          "execution_count": 91
        }
      ]
    },
    {
      "cell_type": "markdown",
      "metadata": {
        "id": "jMIQcYyvQTQR"
      },
      "source": [
        "Ok, now we can assess our hypothesis that the jury was a random draw from the population. Based on the above what can you conclude? Does the jury pool look like a random sample from the population? \n",
        "\n",
        "This method of formulating hypothesis, a corresponding statistic (eg the number of black jurors), simulating the data and making a conclusion is known as \"Hypothesis Testing\". If you have seen hypothesis testing before, what is another name for the probability we computed above?\n",
        "\n",
        "Put your answer in the text block below (you may have to double click to make it editable). Print a pdf of this from file, and save a copy of this exercise to your drive or download it a an ``*.ipynb``"
      ]
    },
    {
      "cell_type": "markdown",
      "metadata": {
        "id": "3xApTCkTR1VR"
      },
      "source": [
        "Your answer here:"
      ]
    },
    {
      "cell_type": "markdown",
      "metadata": {
        "id": "D7S7vWxQMlJk"
      },
      "source": [
        "1) The jury population does not look like a random draw at all, the possibility appears to be the same as zero, sometimes I get zero and other times I get 1e-05. \n",
        "\n",
        "We will conduct a left-tailed hypothesis test.\n",
        "Our initial assumption for our two competing hypotheses -- the null hypothesis ($H_0$) and the alternative hypothesis ($H_A$). Here, our hypotheses are:\n",
        "\n",
        "$H_0$: The jury was a random draw of the population, $Mu$ > .01\n",
        "\n",
        "$H_A$: The jury was not a random draw of the population, $Mu$ < .01\n",
        "\n",
        "The probability is also known as the P-value, it is the probability of making a Type I error, if the P-value is less than our critical value of .01 than we can reject the null(jury was a random draw). \n",
        "\n",
        "When the proportion of eligible blacks is 26% in the population, having 8 black jurors selected out of a random 100 jurors is has a 1e-05 chance of occuring. We can reject the null and conclude that the jury was not a random draw."
      ]
    }
  ]
}